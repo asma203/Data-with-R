{
    "cells": [
        {
            "metadata": {
                "collapsed": true
            },
            "cell_type": "markdown",
            "source": "<h1>\"My Jupyter Notebook on IBM Watson Studio\")<h1>"
        },
        {
            "metadata": {},
            "cell_type": "markdown",
            "source": "<b> asma yonis </b>\n<br> QA Engineer "
        },
        {
            "metadata": {},
            "cell_type": "markdown",
            "source": "<em> I want to study data science because I want to gain experience in data dield </em>"
        },
        {
            "metadata": {},
            "cell_type": "markdown",
            "source": "<h5> my code is supposed to be  </h5>"
        },
        {
            "metadata": {},
            "cell_type": "markdown",
            "source": "<ol>\n  <li>First item</li>\n  <li>Second item</li>\n  <li>Third item</li>\n  <li>Fourth item</li>\n</ol>"
        },
        {
            "metadata": {},
            "cell_type": "markdown",
            "source": "<ul>\n  <li>First item</li>\n  <li>Second item</li>\n  <li>Third item</li>\n  <li>Fourth item</li>\n</ul>"
        },
        {
            "metadata": {},
            "cell_type": "markdown",
            "source": "My favorite search engine is [google](https://google.com)."
        },
        {
            "metadata": {},
            "cell_type": "code",
            "source": "",
            "execution_count": null,
            "outputs": []
        }
    ],
    "metadata": {
        "kernelspec": {
            "name": "python3",
            "display_name": "Python 3.9",
            "language": "python"
        },
        "language_info": {
            "name": "python",
            "version": "3.9.12",
            "mimetype": "text/x-python",
            "codemirror_mode": {
                "name": "ipython",
                "version": 3
            },
            "pygments_lexer": "ipython3",
            "nbconvert_exporter": "python",
            "file_extension": ".py"
        }
    },
    "nbformat": 4,
    "nbformat_minor": 1
}